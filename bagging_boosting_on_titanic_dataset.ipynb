{
 "cells": [
  {
   "cell_type": "markdown",
   "id": "ea12b89f-c71b-4304-bc35-f4678b1d33e6",
   "metadata": {},
   "source": [
    "## Bagging and Boosting on 'titanic' dataset"
   ]
  },
  {
   "cell_type": "markdown",
   "id": "a57d3e2d-d90c-4cf4-8451-0e553553f019",
   "metadata": {},
   "source": [
    "The ML approaches are not limited to but including the Preprocessing, EDA, feature selection, model selection and evaluation.   \n",
    "\n",
    "The models used are the Decision Tree, Bagging, Random Forest, AdaBoost, and Gradient Boost.  \n",
    "\n",
    "The result is that the Gradient Boost gained the best score among the five models. The score means the roc auc score."
   ]
  },
  {
   "cell_type": "markdown",
   "id": "899c9e08-012c-4871-93dd-afd5fd685cd0",
   "metadata": {},
   "source": [
    "#### Summary of Bagging\n",
    "・ensemble method with weak learners  \n",
    "・bootstrap sampling  \n",
    "  (random sampling with replacement)  \n",
    "・which reduces variance  \n",
    "・therefore it works well on decision tree \n",
    "  which normally has high variance."
   ]
  },
  {
   "cell_type": "code",
   "execution_count": 1,
   "id": "10067885-94d0-4a45-be35-0fd708df7b45",
   "metadata": {},
   "outputs": [],
   "source": [
    "import seaborn as sns\n",
    "import pandas as pd\n",
    "import numpy as np\n",
    "from sklearn.preprocessing import OrdinalEncoder\n",
    "from sklearn.model_selection import train_test_split\n",
    "from sklearn.ensemble import BaggingClassifier, RandomForestClassifier, AdaBoostClassifier, GradientBoostingClassifier\n",
    "from sklearn.metrics import roc_auc_score\n",
    "from sklearn.tree import DecisionTreeClassifier, plot_tree\n",
    "import matplotlib.pyplot as plt"
   ]
  },
  {
   "cell_type": "markdown",
   "id": "08283daf-9467-46bf-a469-7121e5d79bc6",
   "metadata": {},
   "source": [
    "## Preprocessing"
   ]
  },
  {
   "cell_type": "code",
   "execution_count": 2,
   "id": "ffb87b68-6c8b-459d-9f46-a44ca7903972",
   "metadata": {},
   "outputs": [
    {
     "name": "stdout",
     "output_type": "stream",
     "text": [
      "<class 'pandas.core.frame.DataFrame'>\n",
      "RangeIndex: 891 entries, 0 to 890\n",
      "Data columns (total 15 columns):\n",
      " #   Column       Non-Null Count  Dtype   \n",
      "---  ------       --------------  -----   \n",
      " 0   survived     891 non-null    int64   \n",
      " 1   pclass       891 non-null    int64   \n",
      " 2   sex          891 non-null    object  \n",
      " 3   age          714 non-null    float64 \n",
      " 4   sibsp        891 non-null    int64   \n",
      " 5   parch        891 non-null    int64   \n",
      " 6   fare         891 non-null    float64 \n",
      " 7   embarked     889 non-null    object  \n",
      " 8   class        891 non-null    category\n",
      " 9   who          891 non-null    object  \n",
      " 10  adult_male   891 non-null    bool    \n",
      " 11  deck         203 non-null    category\n",
      " 12  embark_town  889 non-null    object  \n",
      " 13  alive        891 non-null    object  \n",
      " 14  alone        891 non-null    bool    \n",
      "dtypes: bool(2), category(2), float64(2), int64(4), object(5)\n",
      "memory usage: 80.7+ KB\n"
     ]
    }
   ],
   "source": [
    "df = sns.load_dataset('titanic')\n",
    "df.info()"
   ]
  },
  {
   "cell_type": "markdown",
   "id": "64333c0f-f613-4d4e-9b14-f91191c0a0a0",
   "metadata": {},
   "source": [
    "### EDA"
   ]
  },
  {
   "cell_type": "code",
   "execution_count": 3,
   "id": "81deae77-b8cf-40d0-825c-5103a44b2b94",
   "metadata": {},
   "outputs": [
    {
     "data": {
      "text/html": [
       "<div>\n",
       "<style scoped>\n",
       "    .dataframe tbody tr th:only-of-type {\n",
       "        vertical-align: middle;\n",
       "    }\n",
       "\n",
       "    .dataframe tbody tr th {\n",
       "        vertical-align: top;\n",
       "    }\n",
       "\n",
       "    .dataframe thead th {\n",
       "        text-align: right;\n",
       "    }\n",
       "</style>\n",
       "<table border=\"1\" class=\"dataframe\">\n",
       "  <thead>\n",
       "    <tr style=\"text-align: right;\">\n",
       "      <th></th>\n",
       "      <th>survived</th>\n",
       "      <th>pclass</th>\n",
       "      <th>sex</th>\n",
       "      <th>age</th>\n",
       "      <th>sibsp</th>\n",
       "      <th>parch</th>\n",
       "      <th>fare</th>\n",
       "      <th>embarked</th>\n",
       "      <th>class</th>\n",
       "      <th>who</th>\n",
       "      <th>adult_male</th>\n",
       "      <th>deck</th>\n",
       "      <th>embark_town</th>\n",
       "      <th>alive</th>\n",
       "      <th>alone</th>\n",
       "    </tr>\n",
       "  </thead>\n",
       "  <tbody>\n",
       "    <tr>\n",
       "      <th>0</th>\n",
       "      <td>0</td>\n",
       "      <td>3</td>\n",
       "      <td>male</td>\n",
       "      <td>22.0</td>\n",
       "      <td>1</td>\n",
       "      <td>0</td>\n",
       "      <td>7.2500</td>\n",
       "      <td>S</td>\n",
       "      <td>Third</td>\n",
       "      <td>man</td>\n",
       "      <td>True</td>\n",
       "      <td>NaN</td>\n",
       "      <td>Southampton</td>\n",
       "      <td>no</td>\n",
       "      <td>False</td>\n",
       "    </tr>\n",
       "    <tr>\n",
       "      <th>1</th>\n",
       "      <td>1</td>\n",
       "      <td>1</td>\n",
       "      <td>female</td>\n",
       "      <td>38.0</td>\n",
       "      <td>1</td>\n",
       "      <td>0</td>\n",
       "      <td>71.2833</td>\n",
       "      <td>C</td>\n",
       "      <td>First</td>\n",
       "      <td>woman</td>\n",
       "      <td>False</td>\n",
       "      <td>C</td>\n",
       "      <td>Cherbourg</td>\n",
       "      <td>yes</td>\n",
       "      <td>False</td>\n",
       "    </tr>\n",
       "    <tr>\n",
       "      <th>2</th>\n",
       "      <td>1</td>\n",
       "      <td>3</td>\n",
       "      <td>female</td>\n",
       "      <td>26.0</td>\n",
       "      <td>0</td>\n",
       "      <td>0</td>\n",
       "      <td>7.9250</td>\n",
       "      <td>S</td>\n",
       "      <td>Third</td>\n",
       "      <td>woman</td>\n",
       "      <td>False</td>\n",
       "      <td>NaN</td>\n",
       "      <td>Southampton</td>\n",
       "      <td>yes</td>\n",
       "      <td>True</td>\n",
       "    </tr>\n",
       "    <tr>\n",
       "      <th>3</th>\n",
       "      <td>1</td>\n",
       "      <td>1</td>\n",
       "      <td>female</td>\n",
       "      <td>35.0</td>\n",
       "      <td>1</td>\n",
       "      <td>0</td>\n",
       "      <td>53.1000</td>\n",
       "      <td>S</td>\n",
       "      <td>First</td>\n",
       "      <td>woman</td>\n",
       "      <td>False</td>\n",
       "      <td>C</td>\n",
       "      <td>Southampton</td>\n",
       "      <td>yes</td>\n",
       "      <td>False</td>\n",
       "    </tr>\n",
       "    <tr>\n",
       "      <th>4</th>\n",
       "      <td>0</td>\n",
       "      <td>3</td>\n",
       "      <td>male</td>\n",
       "      <td>35.0</td>\n",
       "      <td>0</td>\n",
       "      <td>0</td>\n",
       "      <td>8.0500</td>\n",
       "      <td>S</td>\n",
       "      <td>Third</td>\n",
       "      <td>man</td>\n",
       "      <td>True</td>\n",
       "      <td>NaN</td>\n",
       "      <td>Southampton</td>\n",
       "      <td>no</td>\n",
       "      <td>True</td>\n",
       "    </tr>\n",
       "    <tr>\n",
       "      <th>...</th>\n",
       "      <td>...</td>\n",
       "      <td>...</td>\n",
       "      <td>...</td>\n",
       "      <td>...</td>\n",
       "      <td>...</td>\n",
       "      <td>...</td>\n",
       "      <td>...</td>\n",
       "      <td>...</td>\n",
       "      <td>...</td>\n",
       "      <td>...</td>\n",
       "      <td>...</td>\n",
       "      <td>...</td>\n",
       "      <td>...</td>\n",
       "      <td>...</td>\n",
       "      <td>...</td>\n",
       "    </tr>\n",
       "    <tr>\n",
       "      <th>886</th>\n",
       "      <td>0</td>\n",
       "      <td>2</td>\n",
       "      <td>male</td>\n",
       "      <td>27.0</td>\n",
       "      <td>0</td>\n",
       "      <td>0</td>\n",
       "      <td>13.0000</td>\n",
       "      <td>S</td>\n",
       "      <td>Second</td>\n",
       "      <td>man</td>\n",
       "      <td>True</td>\n",
       "      <td>NaN</td>\n",
       "      <td>Southampton</td>\n",
       "      <td>no</td>\n",
       "      <td>True</td>\n",
       "    </tr>\n",
       "    <tr>\n",
       "      <th>887</th>\n",
       "      <td>1</td>\n",
       "      <td>1</td>\n",
       "      <td>female</td>\n",
       "      <td>19.0</td>\n",
       "      <td>0</td>\n",
       "      <td>0</td>\n",
       "      <td>30.0000</td>\n",
       "      <td>S</td>\n",
       "      <td>First</td>\n",
       "      <td>woman</td>\n",
       "      <td>False</td>\n",
       "      <td>B</td>\n",
       "      <td>Southampton</td>\n",
       "      <td>yes</td>\n",
       "      <td>True</td>\n",
       "    </tr>\n",
       "    <tr>\n",
       "      <th>888</th>\n",
       "      <td>0</td>\n",
       "      <td>3</td>\n",
       "      <td>female</td>\n",
       "      <td>NaN</td>\n",
       "      <td>1</td>\n",
       "      <td>2</td>\n",
       "      <td>23.4500</td>\n",
       "      <td>S</td>\n",
       "      <td>Third</td>\n",
       "      <td>woman</td>\n",
       "      <td>False</td>\n",
       "      <td>NaN</td>\n",
       "      <td>Southampton</td>\n",
       "      <td>no</td>\n",
       "      <td>False</td>\n",
       "    </tr>\n",
       "    <tr>\n",
       "      <th>889</th>\n",
       "      <td>1</td>\n",
       "      <td>1</td>\n",
       "      <td>male</td>\n",
       "      <td>26.0</td>\n",
       "      <td>0</td>\n",
       "      <td>0</td>\n",
       "      <td>30.0000</td>\n",
       "      <td>C</td>\n",
       "      <td>First</td>\n",
       "      <td>man</td>\n",
       "      <td>True</td>\n",
       "      <td>C</td>\n",
       "      <td>Cherbourg</td>\n",
       "      <td>yes</td>\n",
       "      <td>True</td>\n",
       "    </tr>\n",
       "    <tr>\n",
       "      <th>890</th>\n",
       "      <td>0</td>\n",
       "      <td>3</td>\n",
       "      <td>male</td>\n",
       "      <td>32.0</td>\n",
       "      <td>0</td>\n",
       "      <td>0</td>\n",
       "      <td>7.7500</td>\n",
       "      <td>Q</td>\n",
       "      <td>Third</td>\n",
       "      <td>man</td>\n",
       "      <td>True</td>\n",
       "      <td>NaN</td>\n",
       "      <td>Queenstown</td>\n",
       "      <td>no</td>\n",
       "      <td>True</td>\n",
       "    </tr>\n",
       "  </tbody>\n",
       "</table>\n",
       "<p>891 rows × 15 columns</p>\n",
       "</div>"
      ],
      "text/plain": [
       "     survived  pclass     sex   age  sibsp  parch     fare embarked   class  \\\n",
       "0           0       3    male  22.0      1      0   7.2500        S   Third   \n",
       "1           1       1  female  38.0      1      0  71.2833        C   First   \n",
       "2           1       3  female  26.0      0      0   7.9250        S   Third   \n",
       "3           1       1  female  35.0      1      0  53.1000        S   First   \n",
       "4           0       3    male  35.0      0      0   8.0500        S   Third   \n",
       "..        ...     ...     ...   ...    ...    ...      ...      ...     ...   \n",
       "886         0       2    male  27.0      0      0  13.0000        S  Second   \n",
       "887         1       1  female  19.0      0      0  30.0000        S   First   \n",
       "888         0       3  female   NaN      1      2  23.4500        S   Third   \n",
       "889         1       1    male  26.0      0      0  30.0000        C   First   \n",
       "890         0       3    male  32.0      0      0   7.7500        Q   Third   \n",
       "\n",
       "       who  adult_male deck  embark_town alive  alone  \n",
       "0      man        True  NaN  Southampton    no  False  \n",
       "1    woman       False    C    Cherbourg   yes  False  \n",
       "2    woman       False  NaN  Southampton   yes   True  \n",
       "3    woman       False    C  Southampton   yes  False  \n",
       "4      man        True  NaN  Southampton    no   True  \n",
       "..     ...         ...  ...          ...   ...    ...  \n",
       "886    man        True  NaN  Southampton    no   True  \n",
       "887  woman       False    B  Southampton   yes   True  \n",
       "888  woman       False  NaN  Southampton    no  False  \n",
       "889    man        True    C    Cherbourg   yes   True  \n",
       "890    man        True  NaN   Queenstown    no   True  \n",
       "\n",
       "[891 rows x 15 columns]"
      ]
     },
     "execution_count": 3,
     "metadata": {},
     "output_type": "execute_result"
    }
   ],
   "source": [
    "# check the data overview\n",
    "df"
   ]
  },
  {
   "cell_type": "code",
   "execution_count": 4,
   "id": "5ffecac2-ce34-47ad-b43c-486cc4ebf391",
   "metadata": {},
   "outputs": [],
   "source": [
    "df[df['age'].isna()]         # 177 rows\n",
    "df[df['embarked'].isna()]    # 2 rows\n",
    "df[df['deck'].isna()]        # 688 rows\n",
    "df[df['embark_town'].isna()] # 2 rows\n",
    "# Too many null in 'deck' columns\n",
    "df.drop(columns=['deck'], inplace=True)"
   ]
  },
  {
   "cell_type": "code",
   "execution_count": 5,
   "id": "e36e2ef8-cf9e-47bb-8565-07193655e06e",
   "metadata": {},
   "outputs": [],
   "source": [
    "# a lot of columns are redundant \n",
    "# risk of multicollinearity \n",
    "df['embark_town'].value_counts()\n",
    "df['embarked'].value_counts()\n",
    "# These are too. \n",
    "df['survived'].value_counts()\n",
    "df['alive'].value_counts()\n",
    "# These as well\n",
    "df['pclass']\n",
    "df['class']\n",
    "# 'Sex', 'who', 'adult_male' could be explained just by 'who'\n",
    "# as it has categories as \"female\", \"male\", \"child\"\n",
    "df['sex'].value_counts()\n",
    "df['who'].value_counts()\n",
    "df['adult_male'].value_counts()\n",
    "# childrens' sex are almost half and half: female 43, male 40 \n",
    "df[df['who']=='child']['sex'].value_counts()\n",
    "# Thus drop those redundant/dublicated columns.\n",
    "df.drop(columns=['embark_town', 'alive', 'class', 'sex', 'adult_male'], inplace=True)\n",
    "# \t全部よけ\tadult_male'以外\tとsex以外\t\n",
    "# Bagging AUC: \t0.8778\t0.8723\t0.8727\t0.8734\n",
    "# Random Forest AUC: \t0.8301\t0.8556\t0.8518\t0.8519"
   ]
  },
  {
   "cell_type": "code",
   "execution_count": 8,
   "id": "8020f79a-a5d3-47d7-8a15-9e3dad0beb70",
   "metadata": {},
   "outputs": [],
   "source": [
    "# preprocessing 'age' columns\n",
    "# 'age' columns has a few cells with float numbers such as 0.42, 0.67, ...\n",
    "df.sort_values(by='age', ascending=True)['age']\n",
    "# which only make the data complicated.\n",
    "# Thus replace the age value between (0, 1) to 1\n",
    "df.loc[(df['age'] > 0) & (df['age'] < 1), 'age'] = 1\n",
    "# fill the null with median value\n",
    "median_age = df['age'].median()\n",
    "df['age'].fillna(median_age, inplace=True)\n",
    "# change the age column type from float to int\n",
    "df['age'] = df['age'].astype(int)\n",
    "# By doing this the Bagging score actually went down"
   ]
  },
  {
   "cell_type": "code",
   "execution_count": 9,
   "id": "fff261ce-3348-4491-9783-a8599c47f38c",
   "metadata": {},
   "outputs": [],
   "source": [
    "# two nulls in 'embarked' column\n",
    "# fill them with the most frequent category\n",
    "mode_embarked = df['embarked'].mode()[0]\n",
    "df['embarked'].fillna(mode_embarked, inplace=True)"
   ]
  },
  {
   "cell_type": "code",
   "execution_count": 10,
   "id": "e765982c-0ebb-49a3-a83e-0642ccbf7c9a",
   "metadata": {},
   "outputs": [
    {
     "name": "stdout",
     "output_type": "stream",
     "text": [
      "<class 'pandas.core.frame.DataFrame'>\n",
      "RangeIndex: 891 entries, 0 to 890\n",
      "Data columns (total 9 columns):\n",
      " #   Column    Non-Null Count  Dtype  \n",
      "---  ------    --------------  -----  \n",
      " 0   survived  891 non-null    int64  \n",
      " 1   pclass    891 non-null    int64  \n",
      " 2   age       891 non-null    int32  \n",
      " 3   sibsp     891 non-null    int64  \n",
      " 4   parch     891 non-null    int64  \n",
      " 5   fare      891 non-null    float64\n",
      " 6   embarked  891 non-null    object \n",
      " 7   who       891 non-null    object \n",
      " 8   alone     891 non-null    bool   \n",
      "dtypes: bool(1), float64(1), int32(1), int64(4), object(2)\n",
      "memory usage: 53.2+ KB\n"
     ]
    }
   ],
   "source": [
    "# now all the null and redundant are replaced\n",
    "df.info()"
   ]
  },
  {
   "cell_type": "markdown",
   "id": "16081a15-aa98-48b2-aa0f-eb323fd07ed8",
   "metadata": {},
   "source": [
    "### Label encoding"
   ]
  },
  {
   "cell_type": "code",
   "execution_count": 11,
   "id": "53d6db9f-eca3-4305-a18d-67c79358bb46",
   "metadata": {},
   "outputs": [
    {
     "name": "stdout",
     "output_type": "stream",
     "text": [
      "<class 'pandas.core.frame.DataFrame'>\n",
      "RangeIndex: 891 entries, 0 to 890\n",
      "Data columns (total 8 columns):\n",
      " #   Column    Non-Null Count  Dtype  \n",
      "---  ------    --------------  -----  \n",
      " 0   pclass    891 non-null    int64  \n",
      " 1   age       891 non-null    int32  \n",
      " 2   sibsp     891 non-null    int64  \n",
      " 3   parch     891 non-null    int64  \n",
      " 4   fare      891 non-null    float64\n",
      " 5   embarked  891 non-null    float64\n",
      " 6   who       891 non-null    float64\n",
      " 7   alone     891 non-null    float64\n",
      "dtypes: float64(4), int32(1), int64(3)\n",
      "memory usage: 52.3 KB\n"
     ]
    }
   ],
   "source": [
    "# set X and y\n",
    "X = df.drop(['survived'], axis=1)\n",
    "y = df['survived']\n",
    "# label encoding\n",
    "# data type 'object' needs encoding to be handled by pandas\n",
    "oe = OrdinalEncoder() # categorical variables encoding to numpy.float64\n",
    "# set output as DataFrame instead of NumpyArray\n",
    "oe.set_output(transform='pandas') \n",
    "cat_cols = X.select_dtypes(exclude=np.number).columns.to_list()\n",
    "X[cat_cols] = oe.fit_transform(X[cat_cols])\n",
    "X.info()"
   ]
  },
  {
   "cell_type": "markdown",
   "id": "9177c9e3-c3b0-4beb-827d-e0767ff891de",
   "metadata": {},
   "source": [
    "#### Holds-out"
   ]
  },
  {
   "cell_type": "code",
   "execution_count": 12,
   "id": "7459707b-6918-4be7-b9f0-04487698638c",
   "metadata": {},
   "outputs": [],
   "source": [
    "# hold-out\n",
    "X_train, X_test, y_train, y_test = train_test_split(X, y, test_size=0.3, random_state=0)"
   ]
  },
  {
   "cell_type": "markdown",
   "id": "613a77dc-38d6-4e4c-aca2-4682a28a0439",
   "metadata": {},
   "source": [
    "## Bagging"
   ]
  },
  {
   "cell_type": "code",
   "execution_count": 16,
   "id": "4c6fdaba-511a-4289-9a1c-2651a9e18d0a",
   "metadata": {},
   "outputs": [
    {
     "name": "stdout",
     "output_type": "stream",
     "text": [
      "Bagging AUC: 0.8836607142857145\n"
     ]
    }
   ],
   "source": [
    "# fit and predict\n",
    "clf = BaggingClassifier(random_state=0, n_estimators=1200)\n",
    "clf.fit(X_train, y_train)\n",
    "y_pred = clf.predict_proba(X_test)\n",
    "\n",
    "# evaluate\n",
    "print(f\"Bagging AUC: {roc_auc_score(y_test, y_pred[:, 1])}\")"
   ]
  },
  {
   "cell_type": "code",
   "execution_count": 14,
   "id": "181b35ad-d0f3-4fc5-9b4b-6f2dd0b3393d",
   "metadata": {},
   "outputs": [
    {
     "name": "stdout",
     "output_type": "stream",
     "text": [
      "Single tree AUC: 0.763452380952381\n"
     ]
    }
   ],
   "source": [
    "# Let's check accuracy of single tree\n",
    "single_tree = DecisionTreeClassifier(random_state=0).fit(X_train,y_train)\n",
    "y_pred_tree = single_tree.predict_proba(X_test)\n",
    "print(f\"Single tree AUC: {roc_auc_score(y_test, y_pred_tree[:, 1])}\")"
   ]
  },
  {
   "cell_type": "code",
   "execution_count": null,
   "id": "34dc9ec0-b92a-4409-86d9-854ebe94c1b2",
   "metadata": {},
   "outputs": [],
   "source": [
    "# list of weak learners\n",
    "# clf.estimators_"
   ]
  },
  {
   "cell_type": "markdown",
   "id": "7377961c-2a76-44e0-bd52-803076008096",
   "metadata": {},
   "source": [
    "## Random Forest"
   ]
  },
  {
   "cell_type": "markdown",
   "id": "2c975ea7-aefb-44ec-8f5c-929645183333",
   "metadata": {},
   "source": [
    "#### Summary of Random Forest\n",
    "・Ensemble method  \n",
    "・Bagging + random sampling features  \n",
    "・Data: Bootstrap sampling  \n",
    "・Features: Randomly selected sqrt(n) features  \n",
    "・Thus trees are slightly different from one another  "
   ]
  },
  {
   "cell_type": "code",
   "execution_count": 20,
   "id": "258bac40-85e0-4034-aca0-5035c789954b",
   "metadata": {},
   "outputs": [
    {
     "name": "stdout",
     "output_type": "stream",
     "text": [
      "Random Forest AUC: 0.8289285714285715\n"
     ]
    }
   ],
   "source": [
    "rf = RandomForestClassifier(n_estimators=1200, max_depth=1, random_state=0, bootstrap=True).fit(X_train, y_train)\n",
    "y_pred_rf = rf.predict_proba(X_test)\n",
    "print(f\"Random Forest AUC: {roc_auc_score(y_test, y_pred_rf[:, 1])}\")"
   ]
  },
  {
   "cell_type": "code",
   "execution_count": 18,
   "id": "67914133-f8dc-40d9-9a15-14b1350a63e1",
   "metadata": {},
   "outputs": [
    {
     "name": "stdout",
     "output_type": "stream",
     "text": [
      "[0.19333333 0.07166667 0.07       0.02416667 0.19666667 0.10166667\n",
      " 0.2275     0.115     ]\n"
     ]
    },
    {
     "data": {
      "text/plain": [
       "<BarContainer object of 8 artists>"
      ]
     },
     "execution_count": 18,
     "metadata": {},
     "output_type": "execute_result"
    },
    {
     "data": {
      "image/png": "[encoded data removed]",
      "text/plain": [
       "<Figure size 640x480 with 1 Axes>"
      ]
     },
     "metadata": {},
     "output_type": "display_data"
    }
   ],
   "source": [
    "# feature importance\n",
    "print(rf.feature_importances_)\n",
    "plt.barh(X.columns, rf.feature_importances_)"
   ]
  },
  {
   "cell_type": "code",
   "execution_count": 22,
   "id": "65a130e9-390b-419e-8ef6-4b1bd929e4cb",
   "metadata": {},
   "outputs": [
    {
     "data": {
      "text/plain": [
       "[Text(0.5, 0.75, 'x[4] <= 10.817\\ngini = 0.475\\nsamples = 623\\nvalue = [381, 242]'),\n",
       " Text(0.25, 0.25, 'gini = 0.345\\nsamples = 244\\nvalue = [190, 54]'),\n",
       " Text(0.75, 0.25, 'gini = 0.5\\nsamples = 379\\nvalue = [191, 188]')]"
      ]
     },
     "execution_count": 22,
     "metadata": {},
     "output_type": "execute_result"
    },
    {
     "data": {
      "image/png": "[encoded data removed]",
      "text/plain": [
       "<Figure size 640x480 with 1 Axes>"
      ]
     },
     "metadata": {},
     "output_type": "display_data"
    }
   ],
   "source": [
    "# weak learner tree structure\n",
    "plot_tree(rf.estimators_[10])"
   ]
  },
  {
   "cell_type": "code",
   "execution_count": 23,
   "id": "82cc5a15-0e48-4930-a26a-1b1a07735069",
   "metadata": {},
   "outputs": [
    {
     "data": {
      "text/plain": [
       "'fare'"
      ]
     },
     "execution_count": 23,
     "metadata": {},
     "output_type": "execute_result"
    }
   ],
   "source": [
    "# Since all the features are randomly selected, \n",
    "# each tree mostlikely contains different conditions to branch\n",
    "# such as 'who', 'age', 'pclass', ...\n",
    "X_test.columns[4]"
   ]
  },
  {
   "cell_type": "markdown",
   "id": "7c3cef4c-ee8a-4a5c-a05a-093f46375988",
   "metadata": {},
   "source": [
    "## Boosting: AdaBoost"
   ]
  },
  {
   "cell_type": "markdown",
   "id": "a6b6bc0f-547f-4695-9b55-174fd1b21a65",
   "metadata": {},
   "source": [
    "### Summary of AdaBoost\n",
    "・unlike Bagging (parallel method), Boosting is series method\n",
    "・adding more weights on the sample data which were not learned well in a previous round.\n",
    "・It may reduce both bias and variance."
   ]
  },
  {
   "cell_type": "code",
   "execution_count": 24,
   "id": "f0b758e6-872e-46a9-a3a3-1629ff2653cd",
   "metadata": {},
   "outputs": [
    {
     "name": "stdout",
     "output_type": "stream",
     "text": [
      "Adaboost AUC: 0.8823809523809525\n",
      "[0.15666667 0.24916667 0.14416667 0.0275     0.07666667 0.03916667\n",
      " 0.30666667 0.        ]\n"
     ]
    },
    {
     "data": {
      "text/plain": [
       "<BarContainer object of 8 artists>"
      ]
     },
     "execution_count": 24,
     "metadata": {},
     "output_type": "execute_result"
    },
    {
     "data": {
      "image/png": "[encoded data removed]",
      "text/plain": [
       "<Figure size 640x480 with 1 Axes>"
      ]
     },
     "metadata": {},
     "output_type": "display_data"
    }
   ],
   "source": [
    "# fit and predict\n",
    "ada = AdaBoostClassifier(n_estimators=1200, learning_rate=0.01, random_state=0).fit(X_train, y_train)\n",
    "y_pred_ada = ada.predict_proba(X_test)\n",
    "print(f\"Adaboost AUC: {roc_auc_score(y_test, y_pred_ada[:, 1])}\")\n",
    "\n",
    "# feature importance\n",
    "print(ada.feature_importances_)\n",
    "plt.barh(X.columns, ada.feature_importances_)"
   ]
  },
  {
   "cell_type": "markdown",
   "id": "a4dd8eb6-32f9-4a01-bc8c-2c9c526453fb",
   "metadata": {},
   "source": [
    "### Gradient Boost"
   ]
  },
  {
   "cell_type": "code",
   "execution_count": 25,
   "id": "3747689e-fd64-4d5a-b96c-b9388c517c1e",
   "metadata": {},
   "outputs": [
    {
     "name": "stdout",
     "output_type": "stream",
     "text": [
      "GradientBoost auc: 0.9089285714285714\n"
     ]
    }
   ],
   "source": [
    "gbc = GradientBoostingClassifier(n_estimators=1200, learning_rate=0.03, max_depth=1, random_state=0).fit(X_test, y_test)\n",
    "#gbc.predict_proba(X_test)\n",
    "print(f\"GradientBoost auc: {roc_auc_score(y_test, gbc.predict_proba(X_test)[:, 1])}\")"
   ]
  },
  {
   "cell_type": "code",
   "execution_count": 26,
   "id": "4bf0a619-7d88-4be1-9656-1e48278532d4",
   "metadata": {},
   "outputs": [
    {
     "data": {
      "text/plain": [
       "<BarContainer object of 8 artists>"
      ]
     },
     "execution_count": 26,
     "metadata": {},
     "output_type": "execute_result"
    },
    {
     "data": {
      "image/png": "[encoded data removed]",
      "text/plain": [
       "<Figure size 640x480 with 1 Axes>"
      ]
     },
     "metadata": {},
     "output_type": "display_data"
    }
   ],
   "source": [
    "# feature importance\n",
    "# print(ada.feature_importances_)\n",
    "plt.barh(X.columns, gbc.feature_importances_)"
   ]
  },
  {
   "cell_type": "markdown",
   "id": "6d3c5888-15df-44c0-99ef-160d30098e9d",
   "metadata": {},
   "source": [
    "#### Discussion and Conclusion"
   ]
  },
  {
   "cell_type": "markdown",
   "id": "8a3580f7-9dcd-48ab-977b-306d1adf9dbf",
   "metadata": {},
   "source": [
    "We have seen the different models, namely the decision tree, bagging, random forest, adaboost, and gradient boost. \n",
    "The final roc-auc-score for each models are;  \n",
    "  \n",
    "・gradient boost: 0.908  \n",
    "・bagging:        0.884  \n",
    "・adaboost:       0.882  \n",
    "・random forest:  0.836   \n",
    "・decision tree:  0.763  \n",
    "  \n",
    "Except the decision tree, the random forest was the worst among bagging and boosting methods. However, by changing the feature selection, random forest could have done better performance. For example, if I did not drop these columns below, the random forest did score better by about 2 points.  \n",
    "\n",
    "df.drop(columns=['embark_town', 'alive', 'class', 'sex', 'adult_male'], inplace=True)\n",
    "  \n",
    "Take aways:  \n",
    "・The feature selection is a key to improve the score.  \n",
    "・The EDA is a key to be successful on a feature selection. More the EDA works, better understanding the data thus more ideas for preprocessing to improve the model performance.  \n",
    "  \n",
    "Ways to improve:  \n",
    "・Number of iterators, learning rate, and max_depth are not handled much this time. Though by increasing n_iterators, the Boosting and the random forest performance rapidly improve further. At a same time, the time cost increases as well. In future cases, they could be investigated with grid-search, which indeed would be costly but could work fine for this size of data."
   ]
  }
 ],
 "metadata": {
  "kernelspec": {
   "display_name": "Python 3 (ipykernel)",
   "language": "python",
   "name": "python3"
  },
  "language_info": {
   "codemirror_mode": {
    "name": "ipython",
    "version": 3
   },
   "file_extension": ".py",
   "mimetype": "text/x-python",
   "name": "python",
   "nbconvert_exporter": "python",
   "pygments_lexer": "ipython3",
   "version": "3.11.7"
  }
 },
 "nbformat": 4,
 "nbformat_minor": 5
}
